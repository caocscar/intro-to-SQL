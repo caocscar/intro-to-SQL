{
 "cells": [
  {
   "cell_type": "code",
   "execution_count": 1,
   "metadata": {
    "collapsed": false,
    "slideshow": {
     "slide_type": "skip"
    }
   },
   "outputs": [
    {
     "name": "stdout",
     "output_type": "stream",
     "text": [
      "Populating the interactive namespace from numpy and matplotlib\n"
     ]
    }
   ],
   "source": [
    "%pylab inline"
   ]
  },
  {
   "cell_type": "markdown",
   "metadata": {
    "slideshow": {
     "slide_type": "slide"
    }
   },
   "source": [
    "# Introduction to SQL\n",
    "\n",
    "By Maggie Orton and Alex Cao\n",
    "\n",
    "<a href=\"http://cscar.research.umich.edu/\" target=\"_blank\">CSCAR</a> at The University of Michigan"
   ]
  },
  {
   "cell_type": "markdown",
   "metadata": {
    "slideshow": {
     "slide_type": "fragment"
    }
   },
   "source": [
    "Structured Query Language (\"SQL\") allows you to extract or change specific information in a relational database (i.e. a series of tables). "
   ]
  },
  {
   "cell_type": "markdown",
   "metadata": {
    "slideshow": {
     "slide_type": "fragment"
    }
   },
   "source": [
    " MySQL, SQLite, PostgreSQL, SQL Server, etc. are all database management systems that rely on SQL. Each has its own special variety of SQL, but the general format of the queries is the same. "
   ]
  },
  {
   "cell_type": "markdown",
   "metadata": {
    "slideshow": {
     "slide_type": "fragment"
    }
   },
   "source": [
    "We'll practice SQL using the W3Schools online database <a href=\"https://www.w3schools.com/sql/trysql.asp?filename=trysql_select_all\" target=\"_blank\">here</a>"
   ]
  },
  {
   "cell_type": "markdown",
   "metadata": {
    "slideshow": {
     "slide_type": "slide"
    }
   },
   "source": [
    "# SQL Query Format\n",
    "\n"
   ]
  },
  {
   "cell_type": "markdown",
   "metadata": {
    "slideshow": {
     "slide_type": "slide"
    }
   },
   "source": [
    "# SELECT, FROM, AS\n",
    "The SELECT command specifies the desired columns \n",
    "\n",
    "The FROM command specifies the table from which those columns should be selected\n",
    "\n",
    "The AS command temporarily renames a column or table with the specified name (an \"alias\")\n",
    "\n",
    "An '\\*' character selects all columns in a table"
   ]
  },
  {
   "cell_type": "markdown",
   "metadata": {
    "slideshow": {
     "slide_type": "fragment"
    }
   },
   "source": [
    "## Example\n",
    "The 'Employees' table contains the columns:\n",
    "\n",
    ">   `EmployeeID, LastName, FirstName, BirthDate, Photo, Notes`\n",
    "\n",
    "To retrieve all columns from this table, you would use the command \n",
    "\n",
    "> `SELECT * FROM Employees`\n",
    "    \n",
    "To retrieve only the name-related columns from this table, you would use the command\n",
    "\n",
    "> `SELECT LastName, FirstName FROM Employees`\n",
    "    \n",
    "To do the above while renaming the columns as \"last\" and \"first\":\n",
    "\n",
    "> `SELECT LastName AS Last, FirstName AS First FROM Employees`"
   ]
  },
  {
   "cell_type": "markdown",
   "metadata": {
    "slideshow": {
     "slide_type": "subslide"
    }
   },
   "source": [
    "## Practice\n",
    "1. Retrieve the Products table"
   ]
  },
  {
   "cell_type": "markdown",
   "metadata": {
    "slideshow": {
     "slide_type": "fragment"
    }
   },
   "source": [
    "2. Retrieve only the product names and prices from Products"
   ]
  },
  {
   "cell_type": "markdown",
   "metadata": {
    "slideshow": {
     "slide_type": "fragment"
    }
   },
   "source": [
    "3. Retrieve the product names and prices from Products, but call them PN and Dollars"
   ]
  },
  {
   "cell_type": "markdown",
   "metadata": {
    "slideshow": {
     "slide_type": "fragment"
    }
   },
   "source": [
    "### Answers\n",
    "1. SELECT * FROM Products (77)\n",
    "2. SELECT ProductName, Price FROM Products (77)\n",
    "3. SELECT ProductName AS 'PN', Price AS 'Dollars' FROM Products (77)"
   ]
  },
  {
   "cell_type": "markdown",
   "metadata": {
    "collapsed": true,
    "slideshow": {
     "slide_type": "slide"
    }
   },
   "source": [
    "# WHERE, AND, OR\n",
    "The WHERE command retrieves rows that satisfy a given condition\n",
    "\n",
    "The BETWEEN command gives a range of values (inclusive)\n",
    "\n",
    "The IN command gives multiple possible matching values\n",
    "\n",
    "The LIKE command specifies a pattern to match; see next slide set for SQL patterns\n",
    "\n",
    "Potential conditions:\n",
    "- =          Equals  \n",
    "- != or <>   Does not equal\n",
    "- /> or <    Is greater/less than\n",
    "- />= or <=  Is greater/less than or equal to\n",
    "- BETWEEN ... AND ...\n",
    "- IN (...,...,...)\n",
    "- LIKE '...'\n",
    "\n",
    "BETWEEN, IN, and LIKE can all be modified using the \"NOT\" keyword to retrieve rows that are not a match\n",
    "    "
   ]
  },
  {
   "cell_type": "markdown",
   "metadata": {
    "slideshow": {
     "slide_type": "fragment"
    }
   },
   "source": [
    "## Example\n",
    "Using the 'Employees' table again, suppose you want to retrieve all employee information for those born before 1960:\n",
    "    \n",
    "    SELECT * FROM Employees WHERE BirthDate < '1960-01-01'\n",
    "    \n",
    "Filtering out everyone whose last name is King:\n",
    "    \n",
    "    SELECT * FROM Employees WHERE LastName != 'King'\n",
    "\n",
    "Applying both filters: \n",
    "\n",
    "    SELECT * FROM Employees WHERE Lastname != 'King' AND BirthDate < '1960-01-01'\n",
    "\n",
    "Retrieving Employee IDs for employees named Nancy or Andrew:\n",
    "\n",
    "    SELECT EmployeeID FROM Employees WHERE FirstName IN ('Nancy', 'Andrew')\n",
    "    \n",
    "Retrieving Employee IDs for employees not named Nancy or Andrew:\n",
    "\n",
    "    SELECT EmployeeID FROM Employees WHERE FirstName NOT IN ('Nancy', 'Andrew')    "
   ]
  },
  {
   "cell_type": "markdown",
   "metadata": {
    "slideshow": {
     "slide_type": "subslide"
    }
   },
   "source": [
    "## Practice\n",
    "Retrieve the Product ID and Quantity from the OrderDetails table for Order IDs between 10250 and 10350 (inclusive)"
   ]
  },
  {
   "cell_type": "markdown",
   "metadata": {
    "slideshow": {
     "slide_type": "fragment"
    }
   },
   "source": [
    "### Answers\n",
    "SELECT ProductID, Quantity FROM OrderDetails WHERE OrderID BETWEEN 10250 AND 10350 (269)"
   ]
  },
  {
   "cell_type": "markdown",
   "metadata": {
    "slideshow": {
     "slide_type": "slide"
    }
   },
   "source": [
    "# LIKE, wildcards\n",
    "The LIKE command specifies a pattern to match, such as 'Nancy' or '1999'. \n",
    "\n",
    "Wildcards are characters that stand in for a range of possible values. \n",
    "\n",
    "Wildcards:\n",
    "    \n",
    "    %      A string of 0+ characters\n",
    "    \n",
    "    _      A single character\n",
    "    \n",
    "    [...]  A single character from the range or list in the brackets\n",
    "    \n",
    "    [^...] A single character not from the range or list in the brackets\n",
    "\n",
    "Without any wildcards, LIKE will match only values equal to the exact pattern."
   ]
  },
  {
   "cell_type": "markdown",
   "metadata": {
    "slideshow": {
     "slide_type": "fragment"
    }
   },
   "source": [
    "## Example\n",
    "To match all customers with names starting with M, we use the query\n",
    "\n",
    "    SELECT * FROM Customers WHERE CustomerName Like 'M%'\n",
    "\n",
    "To match all customers with names starting with letters after D, we can use the query\n",
    "\n",
    "    SELECT * FROM Customers WHERE CustomerName Like '[^a-d]%'"
   ]
  },
  {
   "cell_type": "markdown",
   "metadata": {
    "slideshow": {
     "slide_type": "subslide"
    }
   },
   "source": [
    "## Practice\n",
    "1. Retrieve all information about customers from two- or three-letter named countries\n",
    "2. Retrieve the customer names from people whose contacts have a last name starting with S"
   ]
  },
  {
   "cell_type": "markdown",
   "metadata": {
    "slideshow": {
     "slide_type": "fragment"
    }
   },
   "source": [
    "### Answers\n",
    "1. SELECT * FROM Customers WHERE Country LIKE '___' \\(13)\n",
    "2. SELECT CustomerName FROM Customers WHERE ContactName LIKE '% S%' (7)"
   ]
  },
  {
   "cell_type": "markdown",
   "metadata": {
    "slideshow": {
     "slide_type": "slide"
    }
   },
   "source": [
    "# DISTINCT\n",
    "The DISTINCT command retrieves only distinct combinations of the specified columns."
   ]
  },
  {
   "cell_type": "markdown",
   "metadata": {
    "slideshow": {
     "slide_type": "fragment"
    }
   },
   "source": [
    "## Example\n",
    "To retrieve a list of all CustomerIDs with orders from the Orders table:\n",
    "\n",
    "    SELECT DISTINCT CustomerID FROM Orders\n",
    "\n",
    "To retrieve all past combinations of employee IDs and shipper IDs:\n",
    "    \n",
    "    SELECT DISTINCT EmployeeID, ShipperID FROM Orders"
   ]
  },
  {
   "cell_type": "markdown",
   "metadata": {
    "slideshow": {
     "slide_type": "subslide"
    }
   },
   "source": [
    "## Practice"
   ]
  },
  {
   "cell_type": "markdown",
   "metadata": {
    "slideshow": {
     "slide_type": "fragment"
    }
   },
   "source": [
    "### Answers"
   ]
  },
  {
   "cell_type": "markdown",
   "metadata": {
    "collapsed": true,
    "slideshow": {
     "slide_type": "slide"
    }
   },
   "source": [
    "# ORDER BY, TOP, LIMIT\n",
    "ORDER BY sorts the results according to the specified columns. Default is ascending, but you can use ASC/DESC to specify the ordering.\n",
    "\n",
    "TOP and LIMIT (syntax depends on type of database) retrieve only the first x results or percent of results; good for checking results before requesting a very large query"
   ]
  },
  {
   "cell_type": "markdown",
   "metadata": {
    "slideshow": {
     "slide_type": "fragment"
    }
   },
   "source": [
    "## Example\n",
    "To retrieve the first three rows of customers:\n",
    "    \n",
    "    SELECT TOP 2 * FROM Customers\n",
    "\n",
    "To retrieve the ten most expensive products:\n",
    "\n",
    "    SELECT TOP 10 ProductName, Price FROM Products ORDER BY Price DESC\n",
    "\n",
    "To retrieve the top ten percent of products by price:\n",
    "\n",
    "    SELECT TOP 10 PERCENT ProductName, Price FROM Products ORDER BY Price DESC"
   ]
  },
  {
   "cell_type": "markdown",
   "metadata": {
    "slideshow": {
     "slide_type": "subslide"
    }
   },
   "source": [
    "## Practice\n",
    "1. Return the names of the oldest 50% of employees\n",
    "2. Return the top 10 results for products sorted by supplier ID (ascending) then product name (ascending)"
   ]
  },
  {
   "cell_type": "markdown",
   "metadata": {
    "slideshow": {
     "slide_type": "fragment"
    }
   },
   "source": [
    "### Answers\n",
    "1. SELECT TOP 50 PERCENT LastName, FirstName FROM Employees ORDER BY BirthDate\n",
    "2. SELECT TOP 10 * FROM Products ORDER BY SupplierID ASC, ProductName DESC"
   ]
  },
  {
   "cell_type": "markdown",
   "metadata": {
    "slideshow": {
     "slide_type": "slide"
    }
   },
   "source": [
    "# JOIN\n",
    "JOIN connects two tables where the specified columns match.\n",
    "\n",
    "\n",
    "INNER JOIN - all rows where specified columns match (default)\n",
    "\n",
    "LEFT JOIN - all rows from left table and matching rows in right table\n",
    "\n",
    "RIGHT JOIN - all rows from right table and matching rows in left table\n",
    "\n",
    "FULL OUTER JOIN - all rows from left and right table\n",
    "\n",
    "<img src=\"pcs.png\">\n",
    "Image excerpt from <a href=\"http://github.com/pandas-dev/pandas/blob/master/doc/cheatsheet/Pandas_Cheat_Sheet.pdf\" target=\"_blank\">Pandas Cheat Sheet</a>"
   ]
  },
  {
   "cell_type": "markdown",
   "metadata": {
    "slideshow": {
     "slide_type": "fragment"
    }
   },
   "source": [
    "## Example\n"
   ]
  },
  {
   "cell_type": "markdown",
   "metadata": {
    "slideshow": {
     "slide_type": "subslide"
    }
   },
   "source": [
    "## Practice"
   ]
  },
  {
   "cell_type": "markdown",
   "metadata": {
    "slideshow": {
     "slide_type": "fragment"
    }
   },
   "source": [
    "### Answers"
   ]
  },
  {
   "cell_type": "markdown",
   "metadata": {
    "slideshow": {
     "slide_type": "slide"
    }
   },
   "source": [
    "# UNION\n",
    "UNION combines the results of 2+ SELECT queries.\n",
    "\n",
    "Requirements: same number, type, and order of columns\n",
    "\n",
    "Default is only distinct results; use UNION ALL for all results"
   ]
  },
  {
   "cell_type": "markdown",
   "metadata": {
    "slideshow": {
     "slide_type": "fragment"
    }
   },
   "source": [
    "## Example\n"
   ]
  },
  {
   "cell_type": "markdown",
   "metadata": {
    "slideshow": {
     "slide_type": "subslide"
    }
   },
   "source": [
    "## Practice"
   ]
  },
  {
   "cell_type": "markdown",
   "metadata": {
    "slideshow": {
     "slide_type": "fragment"
    }
   },
   "source": [
    "### Answers"
   ]
  },
  {
   "cell_type": "markdown",
   "metadata": {
    "slideshow": {
     "slide_type": "slide"
    }
   },
   "source": [
    "# primary keys"
   ]
  },
  {
   "cell_type": "markdown",
   "metadata": {
    "slideshow": {
     "slide_type": "fragment"
    }
   },
   "source": [
    "## Example"
   ]
  },
  {
   "cell_type": "markdown",
   "metadata": {
    "slideshow": {
     "slide_type": "subslide"
    }
   },
   "source": [
    "## Practice"
   ]
  },
  {
   "cell_type": "markdown",
   "metadata": {
    "slideshow": {
     "slide_type": "fragment"
    }
   },
   "source": [
    "### Answers"
   ]
  }
 ],
 "metadata": {
  "anaconda-cloud": {},
  "celltoolbar": "Slideshow",
  "kernelspec": {
   "display_name": "Python [Root]",
   "language": "python",
   "name": "Python [Root]"
  },
  "language_info": {
   "codemirror_mode": {
    "name": "ipython",
    "version": 3
   },
   "file_extension": ".py",
   "mimetype": "text/x-python",
   "name": "python",
   "nbconvert_exporter": "python",
   "pygments_lexer": "ipython3",
   "version": "3.5.2"
  }
 },
 "nbformat": 4,
 "nbformat_minor": 0
}
