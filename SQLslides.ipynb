{
 "cells": [
  {
   "cell_type": "code",
   "execution_count": 1,
   "metadata": {
    "collapsed": false,
    "slideshow": {
     "slide_type": "skip"
    }
   },
   "outputs": [
    {
     "name": "stdout",
     "output_type": "stream",
     "text": [
      "Populating the interactive namespace from numpy and matplotlib\n"
     ]
    }
   ],
   "source": [
    "%pylab inline"
   ]
  },
  {
   "cell_type": "code",
   "execution_count": null,
   "metadata": {
    "collapsed": true,
    "slideshow": {
     "slide_type": "slide"
    }
   },
   "outputs": [],
   "source": []
  },
  {
   "cell_type": "markdown",
   "metadata": {
    "slideshow": {
     "slide_type": "slide"
    }
   },
   "source": [
    "\n",
    "\n",
    "# Introduction to SQL\n",
    "\n",
    "By Maggie Orton and Alex Cao  \n",
    "\n",
    "March 14, 2017  \n",
    "\n",
    "<a href=\"http://cscar.research.umich.edu/\" target=\"_blank\">CSCAR</a> at The University of Michigan"
   ]
  },
  {
   "cell_type": "markdown",
   "metadata": {
    "slideshow": {
     "slide_type": "fragment"
    }
   },
   "source": [
    "Please fill out the workshop sign-in <a href=\"https://goo.gl/forms/kLpPDHKlwZIV5ZpD2\" target=\"_blank\">here</a>\n"
   ]
  },
  {
   "cell_type": "markdown",
   "metadata": {
    "slideshow": {
     "slide_type": "fragment"
    }
   },
   "source": [
    "We'll practice SQL using the W3Schools online database <a href=\"https://www.w3schools.com/sql/trysql.asp?filename=trysql_select_all\" target=\"_blank\">here</a>"
   ]
  },
  {
   "cell_type": "markdown",
   "metadata": {
    "slideshow": {
     "slide_type": "fragment"
    }
   },
   "source": [
    "Structured Query Language (\"SQL\") allows you to extract or change specific information in a relational database (i.e. a series of tables). "
   ]
  },
  {
   "cell_type": "markdown",
   "metadata": {
    "slideshow": {
     "slide_type": "fragment"
    }
   },
   "source": [
    " MySQL, SQLite, PostgreSQL, SQL Server, etc. are all database management systems that rely on SQL. Each has its own special variety of SQL, but the general format of the queries is the same. "
   ]
  },
  {
   "cell_type": "markdown",
   "metadata": {
    "slideshow": {
     "slide_type": "slide"
    }
   },
   "source": [
    "# SQL Queries\n",
    "\n",
    "## Format\n",
    "Series of commands followed by argument(s)\n",
    "\n",
    "When dealing with multiple tables, identify a column name with tablename.columnname\n",
    "\n",
    "End query with semicolon for multiple consecutive queries\n",
    "\n",
    "## Style + Readability\n",
    "Commands in all-caps\n",
    "\n",
    "Each command set on new line\n",
    "\n",
    "## Comments\n",
    "Single-line comments:\n",
    "\n",
    "-- begin line with two hyphens\n",
    "\n",
    "Multi-line comments:\n",
    "\n",
    "/\\* enclose comment\n",
    "in asterisk|slashes \\*/"
   ]
  },
  {
   "cell_type": "markdown",
   "metadata": {
    "slideshow": {
     "slide_type": "slide"
    }
   },
   "source": [
    "# SELECT, FROM, AS\n",
    "The SELECT command specifies the desired columns \n",
    "\n",
    "The FROM command specifies the table from which those columns should be selected\n",
    "\n",
    "The AS command temporarily renames a column or table with the specified name (an \"alias\")\n",
    "\n",
    "An '\\*' character selects all columns in a table"
   ]
  },
  {
   "cell_type": "markdown",
   "metadata": {
    "slideshow": {
     "slide_type": "fragment"
    }
   },
   "source": [
    "## Example\n",
    "The 'Employees' table contains the columns:\n",
    "\n",
    "    EmployeeID, LastName, FirstName, BirthDate, Photo, Notes"
   ]
  },
  {
   "cell_type": "markdown",
   "metadata": {
    "slideshow": {
     "slide_type": "fragment"
    }
   },
   "source": [
    "To retrieve all columns from this table, you would use the command \n",
    "\n",
    "    SELECT * \n",
    "    FROM Employees"
   ]
  },
  {
   "cell_type": "markdown",
   "metadata": {
    "slideshow": {
     "slide_type": "fragment"
    }
   },
   "source": [
    "To retrieve only the name-related columns from this table, you would use the command\n",
    "\n",
    "    SELECT LastName, FirstName \n",
    "    FROM Employees"
   ]
  },
  {
   "cell_type": "markdown",
   "metadata": {
    "slideshow": {
     "slide_type": "fragment"
    }
   },
   "source": [
    "To do the above while renaming the columns as \"last\" and \"first\":\n",
    "\n",
    "    SELECT LastName AS Last, FirstName AS First \n",
    "    FROM Employees"
   ]
  },
  {
   "cell_type": "markdown",
   "metadata": {
    "slideshow": {
     "slide_type": "subslide"
    }
   },
   "source": [
    "## Practice\n",
    "1\\. Retrieve the Products table"
   ]
  },
  {
   "cell_type": "markdown",
   "metadata": {
    "slideshow": {
     "slide_type": "fragment"
    }
   },
   "source": [
    "2\\. Retrieve only the product names and prices from Products"
   ]
  },
  {
   "cell_type": "markdown",
   "metadata": {
    "slideshow": {
     "slide_type": "fragment"
    }
   },
   "source": [
    "3\\. Retrieve the product names and prices from Products, but call them PN and Dollars"
   ]
  },
  {
   "cell_type": "markdown",
   "metadata": {
    "slideshow": {
     "slide_type": "notes"
    }
   },
   "source": [
    "### Answers\n",
    "1. SELECT * FROM Products (77)\n",
    "2. SELECT ProductName, Price FROM Products (77)\n",
    "3. SELECT ProductName AS 'PN', Price AS 'Dollars' FROM Products (77)"
   ]
  },
  {
   "cell_type": "markdown",
   "metadata": {
    "collapsed": true,
    "slideshow": {
     "slide_type": "slide"
    }
   },
   "source": [
    "# COUNT\n",
    "COUNT returns the number of non-null results in the specified column or the number of non-null rows. "
   ]
  },
  {
   "cell_type": "markdown",
   "metadata": {
    "slideshow": {
     "slide_type": "fragment"
    }
   },
   "source": [
    "## Example\n",
    "To count the number of non-null rows in the Employees table:\n",
    "\n",
    "    SELECT COUNT(*) \n",
    "    FROM Employees"
   ]
  },
  {
   "cell_type": "markdown",
   "metadata": {
    "slideshow": {
     "slide_type": "subslide"
    }
   },
   "source": [
    "## Practice\n",
    "Count the number of Orders in the Orders table"
   ]
  },
  {
   "cell_type": "markdown",
   "metadata": {
    "slideshow": {
     "slide_type": "notes"
    }
   },
   "source": [
    "### Answers\n",
    "SELECT COUNT(OrderID) FROM Orders"
   ]
  },
  {
   "cell_type": "markdown",
   "metadata": {
    "collapsed": true,
    "slideshow": {
     "slide_type": "slide"
    }
   },
   "source": [
    "# WHERE, AND, OR\n",
    "The WHERE command retrieves rows that satisfy a given condition\n",
    "\n",
    "Simple conditions:\n",
    "- =          Equals  \n",
    "- != or <>   Does not equal\n",
    "- /> or <    Is greater/less than\n",
    "- />= or <=  Is greater/less than or equal to\n",
    "\n",
    "Additional conditions covered in following slides:\n",
    "- a AND b\n",
    "- a OR b\n",
    "- BETWEEN a AND b\n",
    "- IN ('a','b','c')\n",
    "- LIKE 'a'\n",
    "\n",
    "BETWEEN, IN, and LIKE can all be modified using the \"NOT\" keyword to retrieve rows that are not a match\n",
    "    "
   ]
  },
  {
   "cell_type": "markdown",
   "metadata": {
    "slideshow": {
     "slide_type": "fragment"
    }
   },
   "source": [
    "## Example\n",
    "Using the 'Employees' table again, suppose you want to retrieve all employee information for those born before 1960:\n",
    "    \n",
    "    SELECT * \n",
    "    FROM Employees \n",
    "    WHERE BirthDate < '1960-01-01'"
   ]
  },
  {
   "cell_type": "markdown",
   "metadata": {
    "slideshow": {
     "slide_type": "fragment"
    }
   },
   "source": [
    "Filtering out everyone whose last name is King:\n",
    "    \n",
    "    SELECT * \n",
    "    FROM Employees \n",
    "    WHERE LastName != 'King'"
   ]
  },
  {
   "cell_type": "markdown",
   "metadata": {
    "slideshow": {
     "slide_type": "fragment"
    }
   },
   "source": [
    "Applying both filters: \n",
    "\n",
    "    SELECT * \n",
    "    FROM Employees \n",
    "    WHERE Lastname != 'King' AND BirthDate < '1960-01-01'"
   ]
  },
  {
   "cell_type": "markdown",
   "metadata": {
    "slideshow": {
     "slide_type": "fragment"
    }
   },
   "source": [
    "Applying either filter:\n",
    "\n",
    "    SELECT * \n",
    "    FROM Employees \n",
    "    WHERE Lastname != 'King' OR BirthDate < '1960-01-01'"
   ]
  },
  {
   "cell_type": "markdown",
   "metadata": {
    "slideshow": {
     "slide_type": "subslide"
    }
   },
   "source": [
    "## Practice\n",
    "1\\. Retrieve orders starting in 1997"
   ]
  },
  {
   "cell_type": "markdown",
   "metadata": {
    "slideshow": {
     "slide_type": "fragment"
    }
   },
   "source": [
    "2\\. Retrieve orders starting in 1997 and with shipper IDs of at least 2"
   ]
  },
  {
   "cell_type": "markdown",
   "metadata": {
    "slideshow": {
     "slide_type": "fragment"
    }
   },
   "source": [
    "3\\. Retrieve orders starting in 1997 or with shipper IDs of at least 2"
   ]
  },
  {
   "cell_type": "markdown",
   "metadata": {
    "slideshow": {
     "slide_type": "notes"
    }
   },
   "source": [
    "### Answers\n",
    "1. SELECT * FROM Orders WHERE OrderDate >= '1997-01-01'\n",
    "2. SELECT * FROM Orders WHERE OrderDate >= '1997-01-01' AND ShipperID > 1\n",
    "3. SELECT * FROM Orders WHERE OrderDate >= '1997-01-01' OR ShipperID > 1"
   ]
  },
  {
   "cell_type": "markdown",
   "metadata": {
    "collapsed": true,
    "slideshow": {
     "slide_type": "slide"
    }
   },
   "source": [
    "# BETWEEN\n",
    "\n",
    "The BETWEEN command gives a range of values (inclusive)\n",
    "\n",
    "BETWEEN can be modified using the \"NOT\" keyword to retrieve rows that are not a match"
   ]
  },
  {
   "cell_type": "markdown",
   "metadata": {
    "slideshow": {
     "slide_type": "fragment"
    }
   },
   "source": [
    "## Example\n",
    "To retrieve orders placed in January of 1997:\n",
    "    \n",
    "    SELECT * \n",
    "    FROM Orders \n",
    "    WHERE OrderDate \n",
    "    BETWEEN '1997-01-01' AND '1997-01-31'"
   ]
  },
  {
   "cell_type": "markdown",
   "metadata": {
    "slideshow": {
     "slide_type": "subslide"
    }
   },
   "source": [
    "## Practice\n",
    "Retrieve the Product ID and Quantity from the OrderDetails table for Order IDs between 10250 and 10350 (inclusive)"
   ]
  },
  {
   "cell_type": "markdown",
   "metadata": {
    "slideshow": {
     "slide_type": "notes"
    }
   },
   "source": [
    "### Answers\n",
    "SELECT ProductID, Quantity FROM OrderDetails WHERE OrderID BETWEEN 10250 AND 10350 (269)"
   ]
  },
  {
   "cell_type": "markdown",
   "metadata": {
    "collapsed": true,
    "slideshow": {
     "slide_type": "slide"
    }
   },
   "source": [
    "# IN\n",
    "The IN command gives multiple possible matching values"
   ]
  },
  {
   "cell_type": "markdown",
   "metadata": {
    "slideshow": {
     "slide_type": "fragment"
    }
   },
   "source": [
    "## Example\n",
    "\n",
    "Retrieving Employee IDs for employees not named Nancy or Andrew:\n",
    "\n",
    "    SELECT EmployeeID FROM Employees WHERE FirstName NOT IN ('Nancy', 'Andrew')    "
   ]
  },
  {
   "cell_type": "markdown",
   "metadata": {
    "slideshow": {
     "slide_type": "subslide"
    }
   },
   "source": [
    "## Practice\n",
    "Return the names of customers in Mexico or the US"
   ]
  },
  {
   "cell_type": "markdown",
   "metadata": {
    "slideshow": {
     "slide_type": "notes"
    }
   },
   "source": [
    "### Answers\n"
   ]
  },
  {
   "cell_type": "markdown",
   "metadata": {
    "slideshow": {
     "slide_type": "slide"
    }
   },
   "source": [
    "# LIKE, wildcards\n",
    "The LIKE command specifies a pattern to match, such as 'Nancy' or '1999'. \n",
    "\n",
    "Wildcards are characters that stand in for a range of possible values. \n",
    "\n",
    "Wildcards:\n",
    "    \n",
    "    %      A string of 0+ characters\n",
    "    \n",
    "    _      A single character\n",
    "    \n",
    "    [...]  A single character from the range or list in the brackets\n",
    "    \n",
    "    [^...] A single character not from the range or list in the brackets\n",
    "\n",
    "Without any wildcards, LIKE will match only values equal to the exact pattern."
   ]
  },
  {
   "cell_type": "markdown",
   "metadata": {
    "slideshow": {
     "slide_type": "fragment"
    }
   },
   "source": [
    "## Example\n",
    "To match all customers with names starting with M, we use the query\n",
    "\n",
    "    SELECT * FROM Customers \n",
    "    WHERE CustomerName Like 'M%'"
   ]
  },
  {
   "cell_type": "markdown",
   "metadata": {
    "slideshow": {
     "slide_type": "fragment"
    }
   },
   "source": [
    "To match all customers with names starting with letters after D, we can use the query\n",
    "\n",
    "    SELECT * FROM Customers \n",
    "    WHERE CustomerName Like '[^a-d]%'"
   ]
  },
  {
   "cell_type": "markdown",
   "metadata": {
    "slideshow": {
     "slide_type": "subslide"
    }
   },
   "source": [
    "## Practice\n",
    "1. Retrieve all information about customers from two- or three-letter named countries"
   ]
  },
  {
   "cell_type": "markdown",
   "metadata": {
    "slideshow": {
     "slide_type": "fragment"
    }
   },
   "source": [
    "2\\. Retrieve the customer names from people whose contacts have a last name starting with S"
   ]
  },
  {
   "cell_type": "markdown",
   "metadata": {
    "slideshow": {
     "slide_type": "notes"
    }
   },
   "source": [
    "### Answers\n",
    "1. SELECT * FROM Customers WHERE Country LIKE '___' \\(13)\n",
    "2. SELECT CustomerName FROM Customers WHERE ContactName LIKE '% S%' (7)"
   ]
  },
  {
   "cell_type": "markdown",
   "metadata": {
    "slideshow": {
     "slide_type": "slide"
    }
   },
   "source": [
    "# DISTINCT\n",
    "The DISTINCT command retrieves only distinct combinations of the specified columns.\n",
    "\n",
    "It is also commonly used in combination with COUNT to return the number of distinct combinations."
   ]
  },
  {
   "cell_type": "markdown",
   "metadata": {
    "slideshow": {
     "slide_type": "fragment"
    }
   },
   "source": [
    "## Example\n",
    "To retrieve a list of all CustomerIDs with orders from the Orders table:\n",
    "\n",
    "    SELECT DISTINCT CustomerID FROM Orders"
   ]
  },
  {
   "cell_type": "markdown",
   "metadata": {
    "slideshow": {
     "slide_type": "fragment"
    }
   },
   "source": [
    "To retrieve all past combinations of employee IDs and shipper IDs:\n",
    "    \n",
    "    SELECT DISTINCT EmployeeID, ShipperID FROM Orders"
   ]
  },
  {
   "cell_type": "markdown",
   "metadata": {
    "slideshow": {
     "slide_type": "fragment"
    }
   },
   "source": [
    "To count the distinct combinations of employee IDs and shipper IDs:\n",
    "\n",
    "    SELECT COUNT(DISTINCT EmployeeID, ShipperID) FROM Orders"
   ]
  },
  {
   "cell_type": "markdown",
   "metadata": {
    "slideshow": {
     "slide_type": "subslide"
    }
   },
   "source": [
    "## Practice\n",
    "1. Retrieve all distinct combinations of ProductID and Quantity from the OrderDetails table"
   ]
  },
  {
   "cell_type": "markdown",
   "metadata": {
    "slideshow": {
     "slide_type": "fragment"
    }
   },
   "source": [
    "2\\. Return the number of results for question 1 "
   ]
  },
  {
   "cell_type": "markdown",
   "metadata": {
    "slideshow": {
     "slide_type": "notes"
    }
   },
   "source": [
    "### Answers\n",
    "1. SELECT DISTINCT ProductID, Quantity FROM OrderDetails\n",
    "2. SELECT COUNT(DISTINCT ProductID, Quantity) FROM OrderDetails"
   ]
  },
  {
   "cell_type": "markdown",
   "metadata": {
    "collapsed": true,
    "slideshow": {
     "slide_type": "slide"
    }
   },
   "source": [
    "# ORDER BY\n",
    "ORDER BY sorts the results according to the specified columns. Default is ascending, but you can use ASC/DESC to specify the ordering."
   ]
  },
  {
   "cell_type": "markdown",
   "metadata": {
    "slideshow": {
     "slide_type": "fragment"
    }
   },
   "source": [
    "## Example\n",
    "To retrieve products ordered by price:\n",
    "\n",
    "    SELECT ProductName, Price FROM Products ORDER BY Price DESC"
   ]
  },
  {
   "cell_type": "markdown",
   "metadata": {
    "slideshow": {
     "slide_type": "subslide"
    }
   },
   "source": [
    "## Practice\n",
    "Order the customers by city and then by country, both ascending"
   ]
  },
  {
   "cell_type": "markdown",
   "metadata": {
    "slideshow": {
     "slide_type": "notes"
    }
   },
   "source": [
    "### Answers\n",
    "SELECT * FROM Customers ORDER BY City ASC, Country ASC"
   ]
  },
  {
   "cell_type": "markdown",
   "metadata": {
    "collapsed": true,
    "slideshow": {
     "slide_type": "slide"
    }
   },
   "source": [
    "# TOP, LIMIT\n",
    "TOP and LIMIT (syntax depends on type of database) retrieve only the first x results or percent of results; good for checking results before requesting a very large query or in combination with the ORDER BY command.\n",
    "\n",
    "LIMIT is only supported in MySQL and Oracle databases. "
   ]
  },
  {
   "cell_type": "markdown",
   "metadata": {
    "slideshow": {
     "slide_type": "fragment"
    }
   },
   "source": [
    "## Example\n",
    "To retrieve the first three rows of customers:\n",
    "    \n",
    "    SELECT TOP 3 * FROM Customers"
   ]
  },
  {
   "cell_type": "markdown",
   "metadata": {
    "slideshow": {
     "slide_type": "fragment"
    }
   },
   "source": [
    "To retrieve the ten most expensive products:\n",
    "\n",
    "    SELECT TOP 10 ProductName, Price FROM Products ORDER BY Price DESC"
   ]
  },
  {
   "cell_type": "markdown",
   "metadata": {
    "slideshow": {
     "slide_type": "fragment"
    }
   },
   "source": [
    "To retrieve the top ten percent of products by price:\n",
    "\n",
    "    SELECT TOP 10 PERCENT ProductName, Price FROM Products ORDER BY Price DESC"
   ]
  },
  {
   "cell_type": "markdown",
   "metadata": {
    "slideshow": {
     "slide_type": "fragment"
    }
   },
   "source": [
    "In MySQL or Oracle, the command would look like this:\n",
    "\n",
    "    SELECT column(s)\n",
    "    FROM table\n",
    "    LIMIT number;"
   ]
  },
  {
   "cell_type": "markdown",
   "metadata": {
    "slideshow": {
     "slide_type": "subslide"
    }
   },
   "source": [
    "## Practice\n",
    "1\\. Return the names of the oldest 50% of employees"
   ]
  },
  {
   "cell_type": "markdown",
   "metadata": {
    "slideshow": {
     "slide_type": "fragment"
    }
   },
   "source": [
    "2\\. Return the top 10 results for products sorted by supplier ID (ascending) then product name (ascending)"
   ]
  },
  {
   "cell_type": "markdown",
   "metadata": {
    "slideshow": {
     "slide_type": "notes"
    }
   },
   "source": [
    "### Answers\n",
    "1. SELECT TOP 50 PERCENT LastName, FirstName FROM Employees ORDER BY BirthDate\n",
    "2. SELECT TOP 10 * FROM Products ORDER BY SupplierID ASC, ProductName DESC"
   ]
  },
  {
   "cell_type": "markdown",
   "metadata": {
    "slideshow": {
     "slide_type": "slide"
    }
   },
   "source": [
    "# JOIN\n",
    "JOIN connects two tables where the specified columns match.\n",
    "\n",
    "\n",
    "INNER JOIN - all rows where specified columns match (default)\n",
    "\n",
    "LEFT JOIN - all rows from left table and matching rows in right table\n",
    "\n",
    "RIGHT JOIN - all rows from right table and matching rows in left table\n",
    "\n",
    "FULL OUTER JOIN - all rows from left and right table\n",
    "\n",
    "<img src=\"pcs.png\"alt=\"Drawing\" style=\"width: 400px;\"/>\n",
    "Image excerpt from <a href=\"http://github.com/pandas-dev/pandas/blob/master/doc/cheatsheet/Pandas_Cheat_Sheet.pdf\" target=\"_blank\">Pandas Cheat Sheet</a>"
   ]
  },
  {
   "cell_type": "markdown",
   "metadata": {
    "slideshow": {
     "slide_type": "fragment"
    }
   },
   "source": [
    "## Example\n",
    "To retrieve all past combinations of customer names and employee IDs:\n",
    "\n",
    "    SELECT CustomerName, EmployeeID, Orders.OrderID FROM Orders\n",
    "    JOIN Customers\n",
    "    ON Customers.CustomerID=Orders.CustomerID"
   ]
  },
  {
   "cell_type": "markdown",
   "metadata": {
    "slideshow": {
     "slide_type": "fragment"
    }
   },
   "source": [
    "To retrieve all past combinations of customer names and employee last names:\n",
    "\n",
    "    SELECT CustomerName, LastName, Orders.OrderID FROM Orders\n",
    "    JOIN Employees\n",
    "    ON Employees.EmployeeID=Orders.EmployeeID\n",
    "    JOIN Customers\n",
    "    ON Customers.CustomerID=Orders.CustomerID"
   ]
  },
  {
   "cell_type": "markdown",
   "metadata": {
    "slideshow": {
     "slide_type": "subslide"
    }
   },
   "source": [
    "## Practice\n",
    "Return the Products table with a column for the Supplier Name included"
   ]
  },
  {
   "cell_type": "markdown",
   "metadata": {
    "slideshow": {
     "slide_type": "notes"
    }
   },
   "source": [
    "### Answers"
   ]
  },
  {
   "cell_type": "markdown",
   "metadata": {
    "slideshow": {
     "slide_type": "slide"
    }
   },
   "source": [
    "# GROUP BY\n",
    "GROUP BY groups the rows according to their values in the selected column and then uses an \"aggregate function\" to create a new column with information about each group (of rows). \n",
    "\n",
    "Example aggregate functions:\n",
    "- COUNT()\n",
    "- SUM()\n",
    "- MAX()\n",
    "- MIN()\n",
    "- AVG()"
   ]
  },
  {
   "cell_type": "markdown",
   "metadata": {
    "slideshow": {
     "slide_type": "fragment"
    }
   },
   "source": [
    "## Example\n",
    "To retrieve the total number of each product ordered:\n",
    "    \n",
    "    SELECT ProductID, SUM(Quantity) \n",
    "    FROM OrderDetails\n",
    "    GROUP BY ProductID"
   ]
  },
  {
   "cell_type": "markdown",
   "metadata": {
    "slideshow": {
     "slide_type": "subslide"
    }
   },
   "source": [
    "## Practice\n",
    "Retrieve the total number of orders in the Orders table for each Employee"
   ]
  },
  {
   "cell_type": "markdown",
   "metadata": {
    "slideshow": {
     "slide_type": "notes"
    }
   },
   "source": [
    "### Answers\n",
    "SELECT EmployeeID, COUNT(*) FROM Orders\n",
    "GROUP BY EmployeeID"
   ]
  },
  {
   "cell_type": "markdown",
   "metadata": {
    "slideshow": {
     "slide_type": "slide"
    }
   },
   "source": [
    "# HAVING\n",
    "The HAVING command acts like a WHERE command for GROUP BY"
   ]
  },
  {
   "cell_type": "markdown",
   "metadata": {
    "slideshow": {
     "slide_type": "fragment"
    }
   },
   "source": [
    "## Example\n",
    "To retrieve employees with more than fifteen orders in the Orders table:\n",
    "    \n",
    "    SELECT EmployeeID, COUNT(*) \n",
    "    FROM ORDERS\n",
    "    GROUP BY EmployeeID\n",
    "    HAVING COUNT(*) > 15"
   ]
  },
  {
   "cell_type": "markdown",
   "metadata": {
    "slideshow": {
     "slide_type": "subslide"
    }
   },
   "source": [
    "## Practice\n",
    "Retrieve product IDs for customers with at least 100 total units ordered in OrderDetails"
   ]
  },
  {
   "cell_type": "markdown",
   "metadata": {
    "slideshow": {
     "slide_type": "notes"
    }
   },
   "source": [
    "### Answers\n",
    "SELECT ProductID, SUM(Quantity) \n",
    "FROM OrderDetails\n",
    "GROUP BY ProductID\n",
    "HAVING SUM(QUANTITY) >= 100"
   ]
  },
  {
   "cell_type": "markdown",
   "metadata": {
    "slideshow": {
     "slide_type": "slide"
    }
   },
   "source": [
    "# UNION\n",
    "UNION combines the results of 2+ SELECT queries.\n",
    "\n",
    "Requirements: same number, type, and order of columns\n",
    "\n",
    "Default is only distinct results; use UNION ALL for all results"
   ]
  },
  {
   "cell_type": "markdown",
   "metadata": {
    "slideshow": {
     "slide_type": "fragment"
    }
   },
   "source": [
    "## Example\n",
    "To retrieve a combined list of all cities which have suppliers AND customers:\n",
    "    SELECT City from Customers\n",
    "    UNION\n",
    "    SELECT City from Suppliers\n",
    "    ORDER BY City"
   ]
  },
  {
   "cell_type": "markdown",
   "metadata": {
    "slideshow": {
     "slide_type": "fragment"
    }
   },
   "source": [
    "To retrieve a combined list of all cities which have suppliers OR customers:\n",
    "    SELECT City from Customers\n",
    "    UNION ALL\n",
    "    SELECT City from Suppliers\n",
    "    ORDER BY City"
   ]
  },
  {
   "cell_type": "markdown",
   "metadata": {
    "slideshow": {
     "slide_type": "subslide"
    }
   },
   "source": [
    "## Practice\n",
    "Retrieve a list of countries containing both suppliers and customers."
   ]
  },
  {
   "cell_type": "markdown",
   "metadata": {
    "slideshow": {
     "slide_type": "notes"
    }
   },
   "source": [
    "### Answers\n",
    "SELECT Country from Customers\n",
    "UNION\n",
    "SELECT Country from Suppliers\n",
    "ORDER BY City"
   ]
  },
  {
   "cell_type": "markdown",
   "metadata": {
    "slideshow": {
     "slide_type": "slide"
    }
   },
   "source": [
    "# Combining commands\n",
    "\n",
    "You can combine as many commands as you like to make your queries as specific as you require. Pay careful attention to the order of the commands."
   ]
  },
  {
   "cell_type": "markdown",
   "metadata": {
    "slideshow": {
     "slide_type": "fragment"
    }
   },
   "source": [
    "## Command order of operations\n",
    "SELECT (TOP)  \n",
    "FROM  \n",
    "WHERE (BETWEEN | LIKE | IN)  \n",
    "GROUP BY  \n",
    "HAVING  \n",
    "ORDER BY (ASC | DESC)  \n",
    "LIMIT  \n",
    "UNION (ALL)  "
   ]
  },
  {
   "cell_type": "markdown",
   "metadata": {
    "slideshow": {
     "slide_type": "fragment"
    }
   },
   "source": [
    "## Practice\n",
    "Retrieve a table with two columns: the customer's name, and the total number of orders made by that customer. "
   ]
  },
  {
   "cell_type": "markdown",
   "metadata": {
    "slideshow": {
     "slide_type": "notes"
    }
   },
   "source": [
    "### Answers"
   ]
  },
  {
   "cell_type": "markdown",
   "metadata": {
    "slideshow": {
     "slide_type": "slide"
    }
   },
   "source": [
    "# Quiz\n",
    "Test your SQL knowledge here:\n",
    "https://goo.gl/forms/jgPcRXjX5QzDsQqE3"
   ]
  },
  {
   "cell_type": "markdown",
   "metadata": {
    "slideshow": {
     "slide_type": "slide"
    }
   },
   "source": [
    "# More practice\n",
    "1. Return a Table with the following 3 columns: CustomerID, CustomerName, Number of Orders\n",
    "Have the table sorted by Number of Orders with the most orders at the top. Only include repeat customers\n",
    "\n",
    "2. Return a Table with the following 3 columns: ProductID, ProductName, Qty Sold\n",
    "Return only the top 10 products in descending order based on quantity sold.\n",
    "\n",
    "3. Find out who your top 5 customers are based on how much money they've spent."
   ]
  },
  {
   "cell_type": "markdown",
   "metadata": {
    "slideshow": {
     "slide_type": "slide"
    }
   },
   "source": [
    "# Creating a table\n",
    "You can create a new table in the database and initialize it with empty columns."
   ]
  },
  {
   "cell_type": "markdown",
   "metadata": {
    "slideshow": {
     "slide_type": "fragment"
    }
   },
   "source": [
    "## Example\n",
    "    CREATE TABLE table_name (\n",
    "        column1 datatype,\n",
    "        column2 datatype,\n",
    "        column3 datatype,\n",
    "       ....\n",
    "    );"
   ]
  },
  {
   "cell_type": "markdown",
   "metadata": {
    "slideshow": {
     "slide_type": "notes"
    }
   },
   "source": [
    "## Practice"
   ]
  },
  {
   "cell_type": "markdown",
   "metadata": {
    "slideshow": {
     "slide_type": "notes"
    }
   },
   "source": [
    "### Answers"
   ]
  },
  {
   "cell_type": "markdown",
   "metadata": {
    "slideshow": {
     "slide_type": "slide"
    }
   },
   "source": [
    "# Primary keys\n",
    "A primary key is an identifier unique to that particular record. Each table can have only one primary key."
   ]
  },
  {
   "cell_type": "markdown",
   "metadata": {
    "slideshow": {
     "slide_type": "fragment"
    }
   },
   "source": [
    "## Example\n",
    "While creating a table:\n",
    "\n",
    "    CREATE TABLE Persons (\n",
    "    ID int NOT NULL,\n",
    "    LastName varchar(255) NOT NULL,\n",
    "    FirstName varchar(255),\n",
    "    Age int,\n",
    "    PRIMARY KEY (ID)\n",
    "    )\n",
    "\n",
    "Adding to existing table:\n",
    "\n",
    "    ALTER TABLE Persons\n",
    "    ADD PRIMARY KEY (ID);\n",
    "\n",
    "The format varies slightly here depending on the type of server. \n"
   ]
  },
  {
   "cell_type": "markdown",
   "metadata": {
    "slideshow": {
     "slide_type": "notes"
    }
   },
   "source": [
    "## Practice"
   ]
  },
  {
   "cell_type": "markdown",
   "metadata": {
    "slideshow": {
     "slide_type": "notes"
    }
   },
   "source": [
    "### Answers"
   ]
  }
 ],
 "metadata": {
  "anaconda-cloud": {},
  "celltoolbar": "Slideshow",
  "kernelspec": {
   "display_name": "Python [Root]",
   "language": "python",
   "name": "Python [Root]"
  },
  "language_info": {
   "codemirror_mode": {
    "name": "ipython",
    "version": 3
   },
   "file_extension": ".py",
   "mimetype": "text/x-python",
   "name": "python",
   "nbconvert_exporter": "python",
   "pygments_lexer": "ipython3",
   "version": "3.5.2"
  }
 },
 "nbformat": 4,
 "nbformat_minor": 0
}
